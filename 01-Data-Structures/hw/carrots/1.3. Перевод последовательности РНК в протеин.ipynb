{
 "cells": [
  {
   "cell_type": "markdown",
   "metadata": {},
   "source": [
    "3.Перевод последовательности РНК в протеин"
   ]
  },
  {
   "cell_type": "code",
   "execution_count": 64,
   "metadata": {},
   "outputs": [],
   "source": [
    "import re"
   ]
  },
  {
   "cell_type": "code",
   "execution_count": 227,
   "metadata": {},
   "outputs": [],
   "source": [
    "with open(\"rna_codon_table.txt\") as f:\n",
    "    codons = f.read()\n",
    "text = re.sub(r'\\s+', ' ', codons)\n",
    "text = text.split(' ')"
   ]
  },
  {
   "cell_type": "code",
   "execution_count": 228,
   "metadata": {},
   "outputs": [
    {
     "data": {
      "text/plain": [
       "{'UUU': 'F',\n",
       " 'CUU': 'L',\n",
       " 'AUU': 'I',\n",
       " 'GUU': 'V',\n",
       " 'UUC': 'F',\n",
       " 'CUC': 'L',\n",
       " 'AUC': 'I',\n",
       " 'GUC': 'V',\n",
       " 'UUA': 'L',\n",
       " 'CUA': 'L',\n",
       " 'AUA': 'I',\n",
       " 'GUA': 'V',\n",
       " 'UUG': 'L',\n",
       " 'CUG': 'L',\n",
       " 'AUG': 'M',\n",
       " 'GUG': 'V',\n",
       " 'UCU': 'S',\n",
       " 'CCU': 'P',\n",
       " 'ACU': 'T',\n",
       " 'GCU': 'A',\n",
       " 'UCC': 'S',\n",
       " 'CCC': 'P',\n",
       " 'ACC': 'T',\n",
       " 'GCC': 'A',\n",
       " 'UCA': 'S',\n",
       " 'CCA': 'P',\n",
       " 'ACA': 'T',\n",
       " 'GCA': 'A',\n",
       " 'UCG': 'S',\n",
       " 'CCG': 'P',\n",
       " 'ACG': 'T',\n",
       " 'GCG': 'A',\n",
       " 'UAU': 'Y',\n",
       " 'CAU': 'H',\n",
       " 'AAU': 'N',\n",
       " 'GAU': 'D',\n",
       " 'UAC': 'Y',\n",
       " 'CAC': 'H',\n",
       " 'AAC': 'N',\n",
       " 'GAC': 'D',\n",
       " 'UAA': 'Stop',\n",
       " 'CAA': 'Q',\n",
       " 'AAA': 'K',\n",
       " 'GAA': 'E',\n",
       " 'UAG': 'Stop',\n",
       " 'CAG': 'Q',\n",
       " 'AAG': 'K',\n",
       " 'GAG': 'E',\n",
       " 'UGU': 'C',\n",
       " 'CGU': 'R',\n",
       " 'AGU': 'S',\n",
       " 'GGU': 'G',\n",
       " 'UGC': 'C',\n",
       " 'CGC': 'R',\n",
       " 'AGC': 'S',\n",
       " 'GGC': 'G',\n",
       " 'UGA': 'Stop',\n",
       " 'CGA': 'R',\n",
       " 'AGA': 'R',\n",
       " 'GGA': 'G',\n",
       " 'UGG': 'W',\n",
       " 'CGG': 'R',\n",
       " 'AGG': 'R',\n",
       " 'GGG': 'G'}"
      ]
     },
     "execution_count": 228,
     "metadata": {},
     "output_type": "execute_result"
    }
   ],
   "source": [
    "d = {text[i-1]: text[i] for i in range(1, len(text), 2)}\n",
    "d"
   ]
  },
  {
   "cell_type": "code",
   "execution_count": 229,
   "metadata": {},
   "outputs": [],
   "source": [
    "def translate_from_dna_to_rna(string):\n",
    "    s = string.replace(\"T\", \"U\")\n",
    "    return s"
   ]
  },
  {
   "cell_type": "code",
   "execution_count": 230,
   "metadata": {},
   "outputs": [],
   "source": [
    "with open(\"dna.fasta.txt\") as file:\n",
    "     s = file.read()\n",
    "s1 = translate_from_dna_to_rna(s).split('\\n')"
   ]
  },
  {
   "cell_type": "code",
   "execution_count": 231,
   "metadata": {},
   "outputs": [
    {
     "data": {
      "text/plain": [
       "{'>HSBGPG Human gene for bone gla protein (BGP)': 'GGCAGAUUCCCCCUAGACCCGCCCGCACCAUGGUCAGGCAUGCCCCUCCUCAUCGCUGGGCACAGCCCAGAGGGUAUAAACAGUGCUGGAGGCUGGCGGGGCAGGCCAGCUGAGUCCUGAGCAGCAGCCCAGCGCAGCCACCGAGACACCAUGAGAGCCCUCACACUCCUCGCCCUAUUGGCCCUGGCCGCACUUUGCAUCGCUGGCCAGGCAGGUGAGUGCCCCCACCUCCCCUCAGGCCGCAUUGCAGUGGGGGCUGAGAGGAGGAAGCACCAUGGCCCACCUCUUCUCACCCCUUUGGCUGGCAGUCCCUUUGCAGUCUAACCACCUUGUUGCAGGCUCAAUCCAUUUGCCCCAGCUCUGCCCUUGCAGAGGGAGAGGAGGGAAGAGCAAGCUGCCCGAGACGCAGGGGAAGGAGGAUGAGGGCCCUGGGGAUGAGCUGGGGUGAACCAGGCUCCCUUUCCUUUGCAGGUGCGAAGCCCAGCGGUGCAGAGUCCAGCAAAGGUGCAGGUAUGAGGAUGGACCUGAUGGGUUCCUGGACCCUCCCCUCUCACCCUGGUCCCUCAGUCUCAUUCCCCCACUCCUGCCACCUCCUGUCUGGCCAUCAGGAAGGCCAGCCUGCUCCCCACCUGAUCCUCCCAAACCCAGAGCCACCUGAUGCCUGCCCCUCUGCUCCACAGCCUUUGUGUCCAAGCAGGAGGGCAGCGAGGUAGUGAAGAGACCCAGGCGCUACCUGUAUCAAUGGCUGGGGUGAGAGAAAAGGCAGAGCUGGGCCAAGGCCCUGCCUCUCCGGGAUGGUCUGUGGGGGAGCUGCAGCAGGGAGUGGCCUCUCUGGGUUGUGGUGGGGGUACAGGCAGCCUGCCCUGGUGGGCACCCUGGAGCCCCAUGUGUAGGGAGAGGAGGGAUGGGCAUUUUGCACGGGGGCUGAUGCCACCACGUCGGGUGUCUCAGAGCCCCAGUCCCCUACCCGGAUCCCCUGGAGCCCAGGAGGGAGGUGUGUGAGCUCAAUCCGGACUGUGACGAGUUGGCUGACCACAUCGGCUUUCAGGAGGCCUAUCGGCGCUUCUACGGCCCGGUCUAGGGUGUCGCUCUGCUGGCCUGGCCGGCAACCCCAGUUCUGCUCCUCUCCAGGCACCCUUCUUUCCUCUUCCCCUUGCCCUUGCCCUGACCUCCCAGCCCUAUGGAUGUGGGGUCCCCAUCAUCCCAGCUGCUCCCAAAUAAACUCCAGAAG',\n",
       " '>HSGLUH1 Human theta 1-globin gene': 'CCACUGCACUCACCGCACCCGGCCAAUUUUUGUGUUUUUAGUAGAGACUAAAUACCAUAUAGUGAACACCUAAGACGGGGGGCCUUGGAUCCAGGGCGAUUCAGAGGGCCCCGGUCGGAGCUGUCGGAGAUUGAGCGCGCGCGGUCCCGGGAUCUCCGACGAGGCCCUGGACCCCCGGGCGGCGAAGCUGCGGCGCGGCGCCCCCUGGAGGCCGCGGGACCCCUGGCCGGUCCGCGCAGGCGCAGCGGGGUCGCAGGGCGCGGCGGGUUCCAGCGCGGGGAUGGCGCUGUCCGCGGAGGACCGGGCGCUGGUGCGCGCCCUGUGGAAGAAGCUGGGCAGCAACGUCGGCGUCUACACGACAGAGGCCCUGGAAAGGUGCGGCAGGCUGGGCGCCCCCGCCCCCAGGGGCCCUCCCUCCCCAAGCCCCCCGGACGCGCCUCACCCACGUUCCUCUCGCAGGACCUUCCUGGCUUUCCCCGCCACGAAGACCUACUUCUCCCACCUGGACCUGAGCCCCGGCUCCUCACAAGUCAGAGCCCACGGCCAGAAGGUGGCGGACGCGCUGAGCCUCGCCGUGGAGCGCCUGGACGACCUACCCCACGCGCUGUCCGCGCUGAGCCACCUGCACGCGUGCCAGCUGCGAGUGGACCCGGCCAGCUUCCAGGUGAGCGGCUGCCGUGCUGGGCCCCUGUCCCCGGGAGGGCCCCGGCGGGGUGGGUGCGGGGGGCGUGCGGGGCGGGUGCAGGCGAGUGAGCCUUGAGCGCUCGCCGCAGCUCCUGGGCCACUGCCUGCUGGUAACCCUCGCCCGGCACUACCCCGGAGACUUCAGCCCCGCGCUGCAGGCGUCGCUGGACAAGUUCCUGAGCCACGUUAUCUCGGCGCUGGUUUCCGAGUACCGCUGAACUGUGGGUGGGUGGCCGCGGGAUCCCCAGGCGACCUUCCCCGUGUUUGAGUAAAGCCUCUCCCAGGAGCAGCCUUCUUGCCGUGCUCUCUCGAGGUCAGGACGCGAGAGGAAGGCGC'}"
      ]
     },
     "execution_count": 231,
     "metadata": {},
     "output_type": "execute_result"
    }
   ],
   "source": [
    "d_seq = {}\n",
    "for line in s1:\n",
    "    if line.startswith(\">\"):\n",
    "        name = line\n",
    "        d_seq[name] = \"\"\n",
    "    else:\n",
    "        d_seq[name] += line\n",
    "d_seq"
   ]
  },
  {
   "cell_type": "markdown",
   "metadata": {},
   "source": [
    "Сделано две функции перевода рнк в аминокислоты, тк по правилам\n",
    "перевод заканчивается вместе со стоп кодоном, однако у нас\n",
    "это не было специально указано, поэтому сделана также функция,\n",
    "которая просто не учитывает стоп кодоны, но продолжает перевод\n",
    "последовательности(translate_rna_to_protein_full)"
   ]
  },
  {
   "cell_type": "code",
   "execution_count": 232,
   "metadata": {},
   "outputs": [],
   "source": [
    "def translate_rna_to_protein_full(s, d):\n",
    "    result = ''\n",
    "    for i in range(0, len(s)-2, 3):\n",
    "        if d[s[i:i+3]] != 'Stop':\n",
    "            result += d[s[i:i+3]] \n",
    "    return result"
   ]
  },
  {
   "cell_type": "code",
   "execution_count": 233,
   "metadata": {},
   "outputs": [],
   "source": [
    "def translate_rna_to_protein(s, d):\n",
    "    result = ''\n",
    "    for i in range(0, len(s)-2, 3):\n",
    "        if d[s[i:i+3]] == 'Stop':\n",
    "            return result\n",
    "        result += d[s[i:i+3]] \n",
    "    return result"
   ]
  },
  {
   "cell_type": "code",
   "execution_count": 234,
   "metadata": {},
   "outputs": [],
   "source": [
    "for key, value in d_seq.items():\n",
    "    d_seq[key] = translate_rna_to_protein(value, d)"
   ]
  },
  {
   "cell_type": "code",
   "execution_count": 235,
   "metadata": {},
   "outputs": [
    {
     "data": {
      "text/plain": [
       "{'>HSBGPG Human gene for bone gla protein (BGP)': 'GRFPLDPPAPWSGMPLLIAGHSPEGINSAGGWRGRPAES',\n",
       " '>HSGLUH1 Human theta 1-globin gene': 'PLHSPHPANFCVFSRD'}"
      ]
     },
     "execution_count": 235,
     "metadata": {},
     "output_type": "execute_result"
    }
   ],
   "source": [
    "d_seq"
   ]
  }
 ],
 "metadata": {
  "kernelspec": {
   "display_name": "Python 3",
   "language": "python",
   "name": "python3"
  },
  "language_info": {
   "codemirror_mode": {
    "name": "ipython",
    "version": 3
   },
   "file_extension": ".py",
   "mimetype": "text/x-python",
   "name": "python",
   "nbconvert_exporter": "python",
   "pygments_lexer": "ipython3",
   "version": "3.7.3"
  }
 },
 "nbformat": 4,
 "nbformat_minor": 2
}
